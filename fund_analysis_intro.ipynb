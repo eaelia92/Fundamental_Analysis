import yfinance as yf
import pandas as pd
# Set pandas options
pd.set_option('future.no_silent_downcasting', True)
pd.set_option('display.max_rows', None)
import matplotlib.pyplot as plt
import matplotlib.dates as mdates

ticker = yf.Ticker("WMT")
ticker_info = ticker.history(period='5y')
# Balance sheet, cash_flow and income_statement
balance_sheet = ticker.balance_sheet
cash_flow = ticker.cashflow
income_statement = ticker.financials

#Inspect the data frame
balance_sheet
#Inspect the data frame
cash_flow
#Inspect the data frame
income_statement
# Extract balance sheet items
total_assets = balance_sheet.loc['Total Assets']
total_liabilities = balance_sheet.loc['Total Liabilities Net Minority Interest']
stockholders_equity = balance_sheet.loc['Ordinary Shares Number']
current_assets = balance_sheet.loc['Current Assets']
current_liabilities = balance_sheet.loc['Current Liabilities']
cash_and_equivalents = balance_sheet.loc['Cash And Cash Equivalents']
long_term_debt = balance_sheet.loc['Long Term Debt']
retained_earnings = balance_sheet.loc['Retained Earnings']
share_outstanding = ticker_info['Volume'].mean()

# Extract income statement items 
net_income = income_statement.loc['Net Income']
total_revenue = income_statement.loc['Total Revenue']
operating_revenue = income_statement.loc['Operating Revenue']
cost_of_revenue = income_statement.loc['Cost Of Revenue']
gross_profit = income_statement.loc['Gross Profit']
total_equity = stockholders_equity 

#Extract cash flow statement items
fcf = cash_flow.loc['Free Cash Flow']
end_cash_position = cash_flow.loc['End Cash Position']


# Calculate financial ratios
debt_to_equity = total_liabilities / stockholders_equity
current_ratio = current_assets / current_liabilities
quick_ratio = (current_assets - balance_sheet.loc['Inventory']) / current_liabilities
eps = net_income / share_outstanding
gross_margin = gross_profit / total_revenue

# Calculate ROA and ROE
roa = net_income / total_assets
roe = net_income / total_equity

# Growth
revenue_growth = round((income_statement.loc['Total Revenue'].pct_change()*100).dropna(),2)
cor_growth = round((income_statement.loc['Cost Of Revenue'].pct_change()*100).dropna(),2)

financial_data = pd.DataFrame({
    
    'Total Revenue': total_revenue,
    'Operating Revenue': operating_revenue,
    'Cost Of Revenue': cost_of_revenue,
    'Total Assets': total_assets,
    'Total Liabilities': total_liabilities,
    'Current Assets': current_assets,
    'Current Liabilities': current_liabilities,
    'Retained Earnings': retained_earnings,
    'Long Term Debt': long_term_debt,
    'Free Cash Flow': fcf,
    'End Cash Position': end_cash_position
})

shareholder_data = pd.DataFrame({

    'Cash and Cash Equivalents': cash_and_equivalents,
    'Net Income': net_income,
    'Stockholders Equity': stockholders_equity
})

financial_ratios = pd.DataFrame({
    'Current Ratio': current_ratio,
    'Quick Ratio': quick_ratio,
    'Debt to Equity Ratio': debt_to_equity,
    'EPS': eps,
    'Gross Margin': gross_margin,
    'ROA': roa,
    'ROE': roe
})

growth_data = pd.DataFrame({
    'Revenue Growth (%)': revenue_growth,
    'Cost of Revenue Growth (%)': cor_growth
})

financial_data = financial_data.apply(pd.to_numeric, errors='coerce')
financial_data = financial_data.dropna(how='all')
financial_data.index = financial_data.index.year

shareholder_data = shareholder_data.apply(pd.to_numeric, errors='coerce')
shareholder_data = shareholder_data.dropna(how='all')
shareholder_data.index = shareholder_data.index.year

growth_data.index = growth_data.index.year
#Print Financial Ratios
financial_ratios.dropna(how='all')

# Plotting the financial data
financial_data.plot(kind='bar',figsize=(10, 8), width=0.8)

# Set title and labels
plt.title(f"{ticker.ticker} Financial Health Overview")
plt.xlabel("Year")
plt.ylabel("Value (BUSD)")

# Format the y-axis to display in billions for relevant items
def billions(x, pos):
    return f'{x * 1e-9:.1f} BUSD' if x > 1e6 else f'{x:.0f}'

plt.gca().yaxis.set_major_formatter(plt.FuncFormatter(billions))

# Rotate x-axis labels for better readability
plt.xticks(rotation=30)
plt.legend(loc='upper right', bbox_to_anchor=(0, 0))
# Adjust layout
plt.tight_layout()

# Show the plot
plt.show()

# Plotting the shareholders data
shareholder_data.plot(kind='bar',figsize=(10, 8), width=0.8)

# Set title and labels
plt.title(f"{ticker.ticker} Shareholders Info")
plt.xlabel("Year")
plt.ylabel("Value (BUSD)")

# Format the y-axis to display in billions
def billions(x, pos):
    return f'{x * 1e-9:.1f} BUSD' if x > 1e6 else f'{x:.0f}'

plt.gca().yaxis.set_major_formatter(plt.FuncFormatter(billions))
plt.xticks(rotation=30)
plt.legend(loc='upper right', bbox_to_anchor=(0, 0))
# Adjust layout
plt.tight_layout()

# Show the plot
plt.show()

# Plot the growth DataFrame
growth_data.plot(kind='bar', figsize=(8, 6), width=0.8)

# Set title and labels
plt.title(f"{ticker.ticker} Revenue and Cost of Revenue Growth Over Time")
plt.xlabel("Year")
plt.ylabel("Growth (%)")

# Rotate x-axis labels for better readability
plt.xticks(rotation=0)

# Place legend at the bottom right
plt.legend(loc='lower right')

# Adjust layout
plt.tight_layout()

# Show the plot
plt.show()
